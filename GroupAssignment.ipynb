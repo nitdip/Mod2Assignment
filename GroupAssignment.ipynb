{
 "cells": [
  {
   "cell_type": "markdown",
   "metadata": {},
   "source": [
    "# Module 2 Group Assignment\n",
    "## Voter Fraud"
   ]
  },
  {
   "cell_type": "code",
   "execution_count": 1,
   "metadata": {},
   "outputs": [],
   "source": [
    "import pandas as pd\n",
    "import requests"
   ]
  },
  {
   "cell_type": "code",
   "execution_count": 2,
   "metadata": {},
   "outputs": [],
   "source": [
    "r = requests.get('https://publicinterestlegal.org/county-list', headers={'User-Agent': 'Mozilla/5.0 (Macintosh; Intel Mac OS X 10_10_1) AppleWebKit/537.36 (KHTML, like Gecko) Chrome/39.0.2171.95 Safari/537.36'})"
   ]
  },
  {
   "cell_type": "markdown",
   "metadata": {},
   "source": [
    "### Looking at the data"
   ]
  },
  {
   "cell_type": "markdown",
   "metadata": {},
   "source": [
    "The file for registration rates contains 3 variables:\n",
    "\n",
    "**Data Dictionary**\n",
    "* COUNTY(string): The name of the county\n",
    "* STATE(string): The name of the state\n",
    "* REGISTRATION RATE(float): The amount percentage the population that are registered to vote."
   ]
  },
  {
   "cell_type": "code",
   "execution_count": 3,
   "metadata": {},
   "outputs": [],
   "source": [
    "regVoters = pd.read_html(r.text, header=0)[0]"
   ]
  },
  {
   "cell_type": "code",
   "execution_count": 4,
   "metadata": {},
   "outputs": [
    {
     "data": {
      "text/html": [
       "<div>\n",
       "<style scoped>\n",
       "    .dataframe tbody tr th:only-of-type {\n",
       "        vertical-align: middle;\n",
       "    }\n",
       "\n",
       "    .dataframe tbody tr th {\n",
       "        vertical-align: top;\n",
       "    }\n",
       "\n",
       "    .dataframe thead th {\n",
       "        text-align: right;\n",
       "    }\n",
       "</style>\n",
       "<table border=\"1\" class=\"dataframe\">\n",
       "  <thead>\n",
       "    <tr style=\"text-align: right;\">\n",
       "      <th></th>\n",
       "      <th>COUNTY</th>\n",
       "      <th>STATE</th>\n",
       "      <th>REGISTRATION RATE</th>\n",
       "    </tr>\n",
       "  </thead>\n",
       "  <tbody>\n",
       "    <tr>\n",
       "      <th>0</th>\n",
       "      <td>Lowndes County</td>\n",
       "      <td>Alabama</td>\n",
       "      <td>127%</td>\n",
       "    </tr>\n",
       "    <tr>\n",
       "      <th>1</th>\n",
       "      <td>Perry County</td>\n",
       "      <td>Alabama</td>\n",
       "      <td>113%</td>\n",
       "    </tr>\n",
       "    <tr>\n",
       "      <th>2</th>\n",
       "      <td>Greene County</td>\n",
       "      <td>Alabama</td>\n",
       "      <td>112%</td>\n",
       "    </tr>\n",
       "    <tr>\n",
       "      <th>3</th>\n",
       "      <td>Macon County</td>\n",
       "      <td>Alabama</td>\n",
       "      <td>112%</td>\n",
       "    </tr>\n",
       "    <tr>\n",
       "      <th>4</th>\n",
       "      <td>Wilcox County</td>\n",
       "      <td>Alabama</td>\n",
       "      <td>110%</td>\n",
       "    </tr>\n",
       "  </tbody>\n",
       "</table>\n",
       "</div>"
      ],
      "text/plain": [
       "           COUNTY    STATE REGISTRATION RATE\n",
       "0  Lowndes County  Alabama              127%\n",
       "1    Perry County  Alabama              113%\n",
       "2   Greene County  Alabama              112%\n",
       "3    Macon County  Alabama              112%\n",
       "4   Wilcox County  Alabama              110%"
      ]
     },
     "execution_count": 4,
     "metadata": {},
     "output_type": "execute_result"
    }
   ],
   "source": [
    "regVoters.head()"
   ]
  },
  {
   "cell_type": "code",
   "execution_count": 5,
   "metadata": {},
   "outputs": [
    {
     "name": "stdout",
     "output_type": "stream",
     "text": [
      "<class 'pandas.core.frame.DataFrame'>\n",
      "RangeIndex: 141 entries, 0 to 140\n",
      "Data columns (total 3 columns):\n",
      " #   Column             Non-Null Count  Dtype \n",
      "---  ------             --------------  ----- \n",
      " 0   COUNTY             141 non-null    object\n",
      " 1   STATE              141 non-null    object\n",
      " 2   REGISTRATION RATE  141 non-null    object\n",
      "dtypes: object(3)\n",
      "memory usage: 3.4+ KB\n"
     ]
    }
   ],
   "source": [
    "regVoters.info()"
   ]
  },
  {
   "cell_type": "markdown",
   "metadata": {},
   "source": [
    "REGISTRATION RATE needs to be converted to a float, since it's labeled as an object."
   ]
  },
  {
   "cell_type": "code",
   "execution_count": 6,
   "metadata": {},
   "outputs": [],
   "source": [
    "#convert REGISTRATION RATE to float values\n",
    "regVoters['REGISTRATION RATE'] = regVoters['REGISTRATION RATE'].str.replace('%', '').astype('float')"
   ]
  },
  {
   "cell_type": "markdown",
   "metadata": {},
   "source": [
    "Renamed the \"%\" columns to Obama% and Romney% to represent the number of voters that voter for each participant.\n"
   ]
  },
  {
   "cell_type": "code",
   "execution_count": 7,
   "metadata": {},
   "outputs": [
    {
     "name": "stdout",
     "output_type": "stream",
     "text": [
      "WARNING *** file size (3825153) not 512 + multiple of sector size (512)\n"
     ]
    }
   ],
   "source": [
    "elecdf = pd.read_excel('http://image.guardian.co.uk/sys-files/Guardian/documents/2012/11/14/US_elect_county.xls')\n",
    "elecdf.rename(columns={'%':'Obama%', '%.1':'Romney%'}, inplace=True)"
   ]
  },
  {
   "cell_type": "markdown",
   "metadata": {},
   "source": [
    "State Postal was changed to State to mirror the STATE column from the voter registration dataframe. To accomplish this, a dictionary of the postal state abbrevations and the state name key value pairs were created."
   ]
  },
  {
   "cell_type": "code",
   "execution_count": 8,
   "metadata": {},
   "outputs": [],
   "source": [
    "# Make the state column the same format for both dataframes\n",
    "states = {\n",
    "        'AK': 'Alaska',\n",
    "        'AL': 'Alabama',\n",
    "        'AR': 'Arkansas',\n",
    "        'AS': 'American Samoa',\n",
    "        'AZ': 'Arizona',\n",
    "        'CA': 'California',\n",
    "        'CO': 'Colorado',\n",
    "        'CT': 'Connecticut',\n",
    "        'DC': 'District of Columbia',\n",
    "        'DE': 'Delaware',\n",
    "        'FL': 'Florida',\n",
    "        'GA': 'Georgia',\n",
    "        'GU': 'Guam',\n",
    "        'HI': 'Hawaii',\n",
    "        'IA': 'Iowa',\n",
    "        'ID': 'Idaho',\n",
    "        'IL': 'Illinois',\n",
    "        'IN': 'Indiana',\n",
    "        'KS': 'Kansas',\n",
    "        'KY': 'Kentucky',\n",
    "        'LA': 'Louisiana',\n",
    "        'MA': 'Massachusetts',\n",
    "        'MD': 'Maryland',\n",
    "        'ME': 'Maine',\n",
    "        'MI': 'Michigan',\n",
    "        'MN': 'Minnesota',\n",
    "        'MO': 'Missouri',\n",
    "        'MP': 'Northern Mariana Islands',\n",
    "        'MS': 'Mississippi',\n",
    "        'MT': 'Montana',\n",
    "        'NA': 'National',\n",
    "        'NC': 'North Carolina',\n",
    "        'ND': 'North Dakota',\n",
    "        'NE': 'Nebraska',\n",
    "        'NH': 'New Hampshire',\n",
    "        'NJ': 'New Jersey',\n",
    "        'NM': 'New Mexico',\n",
    "        'NV': 'Nevada',\n",
    "        'NY': 'New York',\n",
    "        'OH': 'Ohio',\n",
    "        'OK': 'Oklahoma',\n",
    "        'OR': 'Oregon',\n",
    "        'PA': 'Pennsylvania',\n",
    "        'PR': 'Puerto Rico',\n",
    "        'RI': 'Rhode Island',\n",
    "        'SC': 'South Carolina',\n",
    "        'SD': 'South Dakota',\n",
    "        'TN': 'Tennessee',\n",
    "        'TX': 'Texas',\n",
    "        'UT': 'Utah',\n",
    "        'VA': 'Virginia',\n",
    "        'VI': 'Virgin Islands',\n",
    "        'VT': 'Vermont',\n",
    "        'WA': 'Washington',\n",
    "        'WI': 'Wisconsin',\n",
    "        'WV': 'West Virginia',\n",
    "        'WY': 'Wyoming'\n",
    "}\n",
    "\n",
    "# replace the state postal name with the full state names\n",
    "elecdf['State Postal'].replace(states, inplace=True)"
   ]
  },
  {
   "cell_type": "code",
   "execution_count": 9,
   "metadata": {},
   "outputs": [
    {
     "name": "stdout",
     "output_type": "stream",
     "text": [
      "<class 'pandas.core.frame.DataFrame'>\n",
      "RangeIndex: 4074 entries, 0 to 4073\n",
      "Data columns (total 7 columns):\n",
      " #   Column        Non-Null Count  Dtype  \n",
      "---  ------        --------------  -----  \n",
      " 0   State Postal  4074 non-null   object \n",
      " 1   County Name   4074 non-null   object \n",
      " 2   FIPS          4074 non-null   int64  \n",
      " 3   Obama vote    4074 non-null   int64  \n",
      " 4   Obama%        4072 non-null   float64\n",
      " 5   Romney vote   4074 non-null   int64  \n",
      " 6   Romney%       4072 non-null   float64\n",
      "dtypes: float64(2), int64(3), object(2)\n",
      "memory usage: 222.9+ KB\n"
     ]
    }
   ],
   "source": [
    "elecdf.info()"
   ]
  },
  {
   "cell_type": "markdown",
   "metadata": {},
   "source": [
    "**Data Dictionary**\n",
    "\n",
    "* State (string): State Name\n",
    "* County Name(string): Name of county\n",
    "* FIPS(int): FIPS code for the state\n",
    "* Obama vote(int): Number of votes for Obama\n",
    "* Obama%(float): Percentage of voters that voted for Obama\n",
    "* Romney vote: Number of votes for Romneu\n",
    "* Romney%: The percentage of voters that voted for Romney\n",
    "\n",
    "### Calculations\n",
    "* Calcualate the number of votes that could be fraudulent\n",
    "\n",
    "$votes * (registration rate-100) = possible fraudulent votes$\n"
   ]
  },
  {
   "cell_type": "markdown",
   "metadata": {},
   "source": [
    "### Merging dataframes\n",
    "The columns used to merge the two datasets are the state and county columns since they are both present in the data. To do this we'll need to remove \"County\" from the regVoters dataframe to match with the elecdf dataframe."
   ]
  },
  {
   "cell_type": "code",
   "execution_count": 10,
   "metadata": {},
   "outputs": [],
   "source": [
    "regVoters['COUNTY'] = regVoters['COUNTY'].str.replace(' County', '')"
   ]
  },
  {
   "cell_type": "code",
   "execution_count": 11,
   "metadata": {},
   "outputs": [],
   "source": [
    "fraudCounties = pd.merge(regVoters, elecdf, left_on=['STATE', 'COUNTY'], right_on=['State Postal', 'County Name'])"
   ]
  },
  {
   "cell_type": "code",
   "execution_count": 12,
   "metadata": {},
   "outputs": [
    {
     "data": {
      "text/html": [
       "<div>\n",
       "<style scoped>\n",
       "    .dataframe tbody tr th:only-of-type {\n",
       "        vertical-align: middle;\n",
       "    }\n",
       "\n",
       "    .dataframe tbody tr th {\n",
       "        vertical-align: top;\n",
       "    }\n",
       "\n",
       "    .dataframe thead th {\n",
       "        text-align: right;\n",
       "    }\n",
       "</style>\n",
       "<table border=\"1\" class=\"dataframe\">\n",
       "  <thead>\n",
       "    <tr style=\"text-align: right;\">\n",
       "      <th></th>\n",
       "      <th>COUNTY</th>\n",
       "      <th>STATE</th>\n",
       "      <th>REGISTRATION RATE</th>\n",
       "      <th>State Postal</th>\n",
       "      <th>County Name</th>\n",
       "      <th>FIPS</th>\n",
       "      <th>Obama vote</th>\n",
       "      <th>Obama%</th>\n",
       "      <th>Romney vote</th>\n",
       "      <th>Romney%</th>\n",
       "    </tr>\n",
       "  </thead>\n",
       "  <tbody>\n",
       "    <tr>\n",
       "      <th>0</th>\n",
       "      <td>Lowndes</td>\n",
       "      <td>Alabama</td>\n",
       "      <td>127.0</td>\n",
       "      <td>Alabama</td>\n",
       "      <td>Lowndes</td>\n",
       "      <td>1085</td>\n",
       "      <td>5747</td>\n",
       "      <td>76.4</td>\n",
       "      <td>1754</td>\n",
       "      <td>23.3</td>\n",
       "    </tr>\n",
       "    <tr>\n",
       "      <th>1</th>\n",
       "      <td>Perry</td>\n",
       "      <td>Alabama</td>\n",
       "      <td>113.0</td>\n",
       "      <td>Alabama</td>\n",
       "      <td>Perry</td>\n",
       "      <td>1105</td>\n",
       "      <td>4536</td>\n",
       "      <td>74.8</td>\n",
       "      <td>1504</td>\n",
       "      <td>24.8</td>\n",
       "    </tr>\n",
       "    <tr>\n",
       "      <th>2</th>\n",
       "      <td>Greene</td>\n",
       "      <td>Alabama</td>\n",
       "      <td>112.0</td>\n",
       "      <td>Alabama</td>\n",
       "      <td>Greene</td>\n",
       "      <td>1063</td>\n",
       "      <td>4514</td>\n",
       "      <td>84.7</td>\n",
       "      <td>799</td>\n",
       "      <td>15.0</td>\n",
       "    </tr>\n",
       "    <tr>\n",
       "      <th>3</th>\n",
       "      <td>Macon</td>\n",
       "      <td>Alabama</td>\n",
       "      <td>112.0</td>\n",
       "      <td>Alabama</td>\n",
       "      <td>Macon</td>\n",
       "      <td>1087</td>\n",
       "      <td>9045</td>\n",
       "      <td>87.1</td>\n",
       "      <td>1322</td>\n",
       "      <td>12.7</td>\n",
       "    </tr>\n",
       "    <tr>\n",
       "      <th>4</th>\n",
       "      <td>Wilcox</td>\n",
       "      <td>Alabama</td>\n",
       "      <td>110.0</td>\n",
       "      <td>Alabama</td>\n",
       "      <td>Wilcox</td>\n",
       "      <td>1131</td>\n",
       "      <td>4867</td>\n",
       "      <td>74.3</td>\n",
       "      <td>1676</td>\n",
       "      <td>25.6</td>\n",
       "    </tr>\n",
       "  </tbody>\n",
       "</table>\n",
       "</div>"
      ],
      "text/plain": [
       "    COUNTY    STATE  REGISTRATION RATE State Postal County Name  FIPS  \\\n",
       "0  Lowndes  Alabama              127.0      Alabama     Lowndes  1085   \n",
       "1    Perry  Alabama              113.0      Alabama       Perry  1105   \n",
       "2   Greene  Alabama              112.0      Alabama      Greene  1063   \n",
       "3    Macon  Alabama              112.0      Alabama       Macon  1087   \n",
       "4   Wilcox  Alabama              110.0      Alabama      Wilcox  1131   \n",
       "\n",
       "   Obama vote  Obama%  Romney vote  Romney%  \n",
       "0        5747    76.4         1754     23.3  \n",
       "1        4536    74.8         1504     24.8  \n",
       "2        4514    84.7          799     15.0  \n",
       "3        9045    87.1         1322     12.7  \n",
       "4        4867    74.3         1676     25.6  "
      ]
     },
     "execution_count": 12,
     "metadata": {},
     "output_type": "execute_result"
    }
   ],
   "source": [
    "fraudCounties.head()"
   ]
  },
  {
   "cell_type": "markdown",
   "metadata": {},
   "source": [
    "### Caluclating the amount of possible fraudulent votes"
   ]
  },
  {
   "cell_type": "code",
   "execution_count": 13,
   "metadata": {},
   "outputs": [],
   "source": [
    "fraudCounties['Total Votes'] = fraudCounties['Obama vote'] + fraudCounties['Romney vote']\n",
    "fraudCounties['Fraudulent Rate'] = fraudCounties['REGISTRATION RATE'] - 100\n",
    "fraudCounties['Fraudlent Votes'] = fraudCounties['Total Votes'] * fraudCounties['Fraudulent Rate']"
   ]
  },
  {
   "cell_type": "markdown",
   "metadata": {},
   "source": [
    "### New Questions To Ask\n",
    "1. Who are the states with higher fraudulent registrations voting for?\n",
    "2. Which candidates are being voted for with fraudulent votes?"
   ]
  },
  {
   "cell_type": "code",
   "execution_count": null,
   "metadata": {},
   "outputs": [],
   "source": []
  }
 ],
 "metadata": {
  "kernelspec": {
   "display_name": "Python 3",
   "language": "python",
   "name": "python3"
  },
  "language_info": {
   "codemirror_mode": {
    "name": "ipython",
    "version": 3
   },
   "file_extension": ".py",
   "mimetype": "text/x-python",
   "name": "python",
   "nbconvert_exporter": "python",
   "pygments_lexer": "ipython3",
   "version": "3.7.7"
  }
 },
 "nbformat": 4,
 "nbformat_minor": 4
}
